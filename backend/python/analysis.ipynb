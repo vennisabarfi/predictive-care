{
 "cells": [
  {
   "cell_type": "code",
   "execution_count": 3,
   "metadata": {},
   "outputs": [
    {
     "name": "stdout",
     "output_type": "stream",
     "text": [
      "^C\n",
      "Note: you may need to restart the kernel to use updated packages.\n"
     ]
    }
   ],
   "source": [
    "pip install pandas"
   ]
  },
  {
   "cell_type": "code",
   "execution_count": 2,
   "metadata": {},
   "outputs": [],
   "source": [
    "import pandas as pd\n",
    "import os"
   ]
  },
  {
   "cell_type": "code",
   "execution_count": 22,
   "metadata": {},
   "outputs": [
    {
     "name": "stdout",
     "output_type": "stream",
     "text": [
      "0                                               Meaning \n",
      "1      It is good to stay humble and remember your or...\n",
      "2        You can tell someone is a fool by their actions\n",
      "3      Pay attention to what people do not what they say\n",
      "4                 Success is determined by how you start\n",
      "                             ...                        \n",
      "273    Acting out of anger leads to negative conseque...\n",
      "274             Traits or behaviors are often inherited.\n",
      "275    A child's character or behavior can be expecte...\n",
      "276    A child usually has a similar character or sim...\n",
      "277    It's difficult to change habits once they are ...\n",
      "Name: Meanings, Length: 278, dtype: object\n"
     ]
    }
   ],
   "source": [
    "file_path = os.getcwd()\n",
    "colnames=[\"Proverbs\", \"Meanings\"]\n",
    "df = pd.read_csv(f\"{file_path}\\\\proverbs_and_meanings_data.csv\", names=colnames, header=None, encoding = 'cp1252') #bypass utf warning\n",
    "df_meaning = df['Meanings']\n",
    "print(df_meaning)\n",
    "# print(df['Meaning '])\n",
    "# print(file_path)"
   ]
  },
  {
   "cell_type": "code",
   "execution_count": 23,
   "metadata": {},
   "outputs": [
    {
     "name": "stdout",
     "output_type": "stream",
     "text": [
      "None\n"
     ]
    }
   ],
   "source": [
    "json = df.to_json('proverbs_data.json', index='false')\n",
    "json_meanings = df_meaning.to_json('meanings_data.json',index=\"false\")\n",
    "print(json_meanings)"
   ]
  },
  {
   "cell_type": "code",
   "execution_count": 16,
   "metadata": {},
   "outputs": [
    {
     "name": "stdout",
     "output_type": "stream",
     "text": [
      "Empty DataFrame\n",
      "Columns: []\n",
      "Index: []\n"
     ]
    }
   ],
   "source": [
    "# Load dataset containing proverbs and their meanings\n",
    "file_path = os.getcwd()\n",
    "dataset = pd.read_csv(f\"{file_path}\\\\proverbs_and_meanings_data.csv\", encoding = 'cp1252') #bypass utf warning\n",
    "dataset = dataset.rename(columns={'Meaning ': 'Meaning'})  # Rename column for consistency\n",
    "\n",
    "# Extract meanings and proverbs from dataset\n",
    "meanings = dataset[\"Meaning\"]\n",
    "proverbs = dataset[\"Proverbs\"]\n",
    "header =['Meaning']\n",
    "\n",
    "print(meanings)"
   ]
  }
 ],
 "metadata": {
  "kernelspec": {
   "display_name": "env",
   "language": "python",
   "name": "python3"
  },
  "language_info": {
   "codemirror_mode": {
    "name": "ipython",
    "version": 3
   },
   "file_extension": ".py",
   "mimetype": "text/x-python",
   "name": "python",
   "nbconvert_exporter": "python",
   "pygments_lexer": "ipython3",
   "version": "3.12.3"
  }
 },
 "nbformat": 4,
 "nbformat_minor": 2
}
