{
 "cells": [
  {
   "cell_type": "code",
   "execution_count": 3,
   "metadata": {},
   "outputs": [
    {
     "name": "stdout",
     "output_type": "stream",
     "text": [
      "^C\n",
      "Note: you may need to restart the kernel to use updated packages.\n"
     ]
    }
   ],
   "source": [
    "pip install pandas"
   ]
  },
  {
   "cell_type": "code",
   "execution_count": 3,
   "metadata": {},
   "outputs": [],
   "source": [
    "import pandas as pd\n",
    "import os"
   ]
  },
  {
   "cell_type": "code",
   "execution_count": 20,
   "metadata": {},
   "outputs": [
    {
     "name": "stdout",
     "output_type": "stream",
     "text": [
      "                                              Proverbs  \\\n",
      "0    a bird that flies off the earth and lands on a...   \n",
      "1    only a fool tests the depth of a river with no...   \n",
      "2            examine what is said, not who is speaking   \n",
      "3    if you want to know the end, look at the begin...   \n",
      "4    knowledge is a garden if it isn't cultivated, ...   \n",
      "..                                                 ...   \n",
      "272                                anger brings damage   \n",
      "273                    the child of a snake is a snake   \n",
      "274                               like father like son   \n",
      "275         the apple does not fall away from its tree   \n",
      "276                                    habit is a skin   \n",
      "\n",
      "                                              Meaning   \n",
      "0    It is good to stay humble and remember your or...  \n",
      "1      You can tell someone is a fool by their actions  \n",
      "2    Pay attention to what people do not what they say  \n",
      "3               Success is determined by how you start  \n",
      "4       To gain knowledge, one must consistently study  \n",
      "..                                                 ...  \n",
      "272  Acting out of anger leads to negative conseque...  \n",
      "273           Traits or behaviors are often inherited.  \n",
      "274  A child's character or behavior can be expecte...  \n",
      "275  A child usually has a similar character or sim...  \n",
      "276  It's difficult to change habits once they are ...  \n",
      "\n",
      "[277 rows x 2 columns]\n"
     ]
    }
   ],
   "source": [
    "file_path = os.getcwd()\n",
    "df = pd.read_csv(f\"{file_path}\\\\proverbs_and_meanings_data.csv\", encoding = 'cp1252') #bypass utf warning\n",
    "print(df)\n",
    "# print(file_path)"
   ]
  },
  {
   "cell_type": "code",
   "execution_count": 21,
   "metadata": {},
   "outputs": [
    {
     "name": "stdout",
     "output_type": "stream",
     "text": [
      "None\n"
     ]
    }
   ],
   "source": [
    "json = df.to_json('proverbs_data.json', index='false')\n",
    "print(json)"
   ]
  },
  {
   "cell_type": "code",
   "execution_count": null,
   "metadata": {},
   "outputs": [],
   "source": []
  }
 ],
 "metadata": {
  "kernelspec": {
   "display_name": "env",
   "language": "python",
   "name": "python3"
  },
  "language_info": {
   "codemirror_mode": {
    "name": "ipython",
    "version": 3
   },
   "file_extension": ".py",
   "mimetype": "text/x-python",
   "name": "python",
   "nbconvert_exporter": "python",
   "pygments_lexer": "ipython3",
   "version": "3.12.3"
  }
 },
 "nbformat": 4,
 "nbformat_minor": 2
}
